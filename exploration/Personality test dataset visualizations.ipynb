{
 "cells": [
  {
   "cell_type": "code",
   "execution_count": 158,
   "metadata": {},
   "outputs": [],
   "source": [
    "import pandas as pd\n",
    "from matplotlib import pyplot as plt\n",
    "import seaborn as sns\n",
    "import numpy as np\n",
    "from matplotlib import colors\n",
    "from matplotlib.ticker import PercentFormatter"
   ]
  },
  {
   "cell_type": "code",
   "execution_count": 216,
   "metadata": {},
   "outputs": [
    {
     "data": {
      "text/html": [
       "<div>\n",
       "<style scoped>\n",
       "    .dataframe tbody tr th:only-of-type {\n",
       "        vertical-align: middle;\n",
       "    }\n",
       "\n",
       "    .dataframe tbody tr th {\n",
       "        vertical-align: top;\n",
       "    }\n",
       "\n",
       "    .dataframe thead th {\n",
       "        text-align: right;\n",
       "    }\n",
       "</style>\n",
       "<table border=\"1\" class=\"dataframe\">\n",
       "  <thead>\n",
       "    <tr style=\"text-align: right;\">\n",
       "      <th></th>\n",
       "      <th>userid</th>\n",
       "      <th>openness</th>\n",
       "      <th>agreeableness</th>\n",
       "      <th>emotional_stability</th>\n",
       "      <th>conscientiousness</th>\n",
       "      <th>extraversion</th>\n",
       "      <th>assigned metric</th>\n",
       "      <th>assigned condition</th>\n",
       "      <th>movie_1</th>\n",
       "      <th>predicted_rating_1</th>\n",
       "      <th>...</th>\n",
       "      <th>movie_9</th>\n",
       "      <th>predicted_rating_9</th>\n",
       "      <th>movie_10</th>\n",
       "      <th>predicted_rating_10</th>\n",
       "      <th>movie_11</th>\n",
       "      <th>predicted_rating_11</th>\n",
       "      <th>movie_12</th>\n",
       "      <th>predicted_rating_12</th>\n",
       "      <th>is_personalized</th>\n",
       "      <th>enjoy_watching</th>\n",
       "    </tr>\n",
       "  </thead>\n",
       "  <tbody>\n",
       "    <tr>\n",
       "      <th>0</th>\n",
       "      <td>8e7cebf9a234c064b75016249f2ac65e</td>\n",
       "      <td>5.0</td>\n",
       "      <td>2.0</td>\n",
       "      <td>3.0</td>\n",
       "      <td>2.5</td>\n",
       "      <td>6.5</td>\n",
       "      <td>serendipity</td>\n",
       "      <td>high</td>\n",
       "      <td>77658</td>\n",
       "      <td>4.410466</td>\n",
       "      <td>...</td>\n",
       "      <td>120138</td>\n",
       "      <td>4.244817</td>\n",
       "      <td>121372</td>\n",
       "      <td>4.396004</td>\n",
       "      <td>127152</td>\n",
       "      <td>4.120456</td>\n",
       "      <td>95311</td>\n",
       "      <td>4.053847</td>\n",
       "      <td>4</td>\n",
       "      <td>4</td>\n",
       "    </tr>\n",
       "    <tr>\n",
       "      <th>1</th>\n",
       "      <td>77c7d756a093150d4377720abeaeef76</td>\n",
       "      <td>7.0</td>\n",
       "      <td>4.0</td>\n",
       "      <td>6.0</td>\n",
       "      <td>5.5</td>\n",
       "      <td>4.0</td>\n",
       "      <td>all</td>\n",
       "      <td>default</td>\n",
       "      <td>94959</td>\n",
       "      <td>4.207280</td>\n",
       "      <td>...</td>\n",
       "      <td>56782</td>\n",
       "      <td>4.019599</td>\n",
       "      <td>5618</td>\n",
       "      <td>3.963953</td>\n",
       "      <td>969</td>\n",
       "      <td>4.174188</td>\n",
       "      <td>1232</td>\n",
       "      <td>4.334877</td>\n",
       "      <td>2</td>\n",
       "      <td>3</td>\n",
       "    </tr>\n",
       "    <tr>\n",
       "      <th>2</th>\n",
       "      <td>b7e8a92987a530cc368719a0e60e26a3</td>\n",
       "      <td>4.0</td>\n",
       "      <td>3.0</td>\n",
       "      <td>4.5</td>\n",
       "      <td>2.0</td>\n",
       "      <td>2.5</td>\n",
       "      <td>serendipity</td>\n",
       "      <td>medium</td>\n",
       "      <td>110501</td>\n",
       "      <td>4.868064</td>\n",
       "      <td>...</td>\n",
       "      <td>2288</td>\n",
       "      <td>4.823212</td>\n",
       "      <td>3307</td>\n",
       "      <td>4.676756</td>\n",
       "      <td>1172</td>\n",
       "      <td>4.649281</td>\n",
       "      <td>1212</td>\n",
       "      <td>4.744990</td>\n",
       "      <td>2</td>\n",
       "      <td>2</td>\n",
       "    </tr>\n",
       "    <tr>\n",
       "      <th>3</th>\n",
       "      <td>92561f21446e017dd6b68b94b23ad5b7</td>\n",
       "      <td>5.5</td>\n",
       "      <td>5.5</td>\n",
       "      <td>4.0</td>\n",
       "      <td>4.5</td>\n",
       "      <td>4.0</td>\n",
       "      <td>popularity</td>\n",
       "      <td>medium</td>\n",
       "      <td>2905</td>\n",
       "      <td>4.526371</td>\n",
       "      <td>...</td>\n",
       "      <td>3030</td>\n",
       "      <td>4.425689</td>\n",
       "      <td>1281</td>\n",
       "      <td>4.479921</td>\n",
       "      <td>940</td>\n",
       "      <td>4.355061</td>\n",
       "      <td>905</td>\n",
       "      <td>4.317927</td>\n",
       "      <td>3</td>\n",
       "      <td>3</td>\n",
       "    </tr>\n",
       "    <tr>\n",
       "      <th>4</th>\n",
       "      <td>030001ac2145a938b07e686a35a2d638</td>\n",
       "      <td>5.5</td>\n",
       "      <td>5.5</td>\n",
       "      <td>3.5</td>\n",
       "      <td>4.5</td>\n",
       "      <td>2.5</td>\n",
       "      <td>popularity</td>\n",
       "      <td>medium</td>\n",
       "      <td>2905</td>\n",
       "      <td>4.526371</td>\n",
       "      <td>...</td>\n",
       "      <td>3030</td>\n",
       "      <td>4.425689</td>\n",
       "      <td>1281</td>\n",
       "      <td>4.479921</td>\n",
       "      <td>940</td>\n",
       "      <td>4.355061</td>\n",
       "      <td>905</td>\n",
       "      <td>4.317927</td>\n",
       "      <td>2</td>\n",
       "      <td>3</td>\n",
       "    </tr>\n",
       "  </tbody>\n",
       "</table>\n",
       "<p>5 rows × 34 columns</p>\n",
       "</div>"
      ],
      "text/plain": [
       "                             userid  openness  agreeableness  \\\n",
       "0  8e7cebf9a234c064b75016249f2ac65e       5.0            2.0   \n",
       "1  77c7d756a093150d4377720abeaeef76       7.0            4.0   \n",
       "2  b7e8a92987a530cc368719a0e60e26a3       4.0            3.0   \n",
       "3  92561f21446e017dd6b68b94b23ad5b7       5.5            5.5   \n",
       "4  030001ac2145a938b07e686a35a2d638       5.5            5.5   \n",
       "\n",
       "   emotional_stability  conscientiousness  extraversion assigned metric  \\\n",
       "0                  3.0                2.5           6.5     serendipity   \n",
       "1                  6.0                5.5           4.0             all   \n",
       "2                  4.5                2.0           2.5     serendipity   \n",
       "3                  4.0                4.5           4.0      popularity   \n",
       "4                  3.5                4.5           2.5      popularity   \n",
       "\n",
       "  assigned condition  movie_1  predicted_rating_1  ...  movie_9  \\\n",
       "0               high    77658            4.410466  ...   120138   \n",
       "1            default    94959            4.207280  ...    56782   \n",
       "2             medium   110501            4.868064  ...     2288   \n",
       "3             medium     2905            4.526371  ...     3030   \n",
       "4             medium     2905            4.526371  ...     3030   \n",
       "\n",
       "   predicted_rating_9  movie_10  predicted_rating_10  movie_11  \\\n",
       "0            4.244817    121372             4.396004    127152   \n",
       "1            4.019599      5618             3.963953       969   \n",
       "2            4.823212      3307             4.676756      1172   \n",
       "3            4.425689      1281             4.479921       940   \n",
       "4            4.425689      1281             4.479921       940   \n",
       "\n",
       "   predicted_rating_11  movie_12  predicted_rating_12  is_personalized  \\\n",
       "0             4.120456     95311             4.053847                4   \n",
       "1             4.174188      1232             4.334877                2   \n",
       "2             4.649281      1212             4.744990                2   \n",
       "3             4.355061       905             4.317927                3   \n",
       "4             4.355061       905             4.317927                2   \n",
       "\n",
       "   enjoy_watching   \n",
       "0                4  \n",
       "1                3  \n",
       "2                2  \n",
       "3                3  \n",
       "4                3  \n",
       "\n",
       "[5 rows x 34 columns]"
      ]
     },
     "execution_count": 216,
     "metadata": {},
     "output_type": "execute_result"
    }
   ],
   "source": [
    "#Importing personality data and movie ratings csv\n",
    "df = pd.read_csv('../Documents/MU Fall 2020/Data mining/archive/2018-personality-data.csv', skipinitialspace=True)\n",
    "dfr = pd.read_csv('../Documents/MU Fall 2020/Data mining/archive/2018_ratings.csv', skipinitialspace=True)\n",
    "df.head()"
   ]
  },
  {
   "cell_type": "code",
   "execution_count": 217,
   "metadata": {},
   "outputs": [
    {
     "data": {
      "text/html": [
       "<div>\n",
       "<style scoped>\n",
       "    .dataframe tbody tr th:only-of-type {\n",
       "        vertical-align: middle;\n",
       "    }\n",
       "\n",
       "    .dataframe tbody tr th {\n",
       "        vertical-align: top;\n",
       "    }\n",
       "\n",
       "    .dataframe thead th {\n",
       "        text-align: right;\n",
       "    }\n",
       "</style>\n",
       "<table border=\"1\" class=\"dataframe\">\n",
       "  <thead>\n",
       "    <tr style=\"text-align: right;\">\n",
       "      <th></th>\n",
       "      <th>useri</th>\n",
       "      <th>movie_id</th>\n",
       "      <th>rating</th>\n",
       "      <th>tstamp</th>\n",
       "    </tr>\n",
       "  </thead>\n",
       "  <tbody>\n",
       "    <tr>\n",
       "      <th>0</th>\n",
       "      <td>8e7cebf9a234c064b75016249f2ac65e</td>\n",
       "      <td>1</td>\n",
       "      <td>5.0</td>\n",
       "      <td>2001-09-10 17:19:56</td>\n",
       "    </tr>\n",
       "    <tr>\n",
       "      <th>1</th>\n",
       "      <td>8e7cebf9a234c064b75016249f2ac65e</td>\n",
       "      <td>2</td>\n",
       "      <td>4.0</td>\n",
       "      <td>2001-09-28 11:34:55</td>\n",
       "    </tr>\n",
       "    <tr>\n",
       "      <th>2</th>\n",
       "      <td>8e7cebf9a234c064b75016249f2ac65e</td>\n",
       "      <td>3</td>\n",
       "      <td>4.0</td>\n",
       "      <td>2001-09-28 11:42:50</td>\n",
       "    </tr>\n",
       "    <tr>\n",
       "      <th>3</th>\n",
       "      <td>8e7cebf9a234c064b75016249f2ac65e</td>\n",
       "      <td>5</td>\n",
       "      <td>5.0</td>\n",
       "      <td>2001-09-28 11:27:30</td>\n",
       "    </tr>\n",
       "    <tr>\n",
       "      <th>4</th>\n",
       "      <td>8e7cebf9a234c064b75016249f2ac65e</td>\n",
       "      <td>6</td>\n",
       "      <td>4.0</td>\n",
       "      <td>2002-01-07 18:12:02</td>\n",
       "    </tr>\n",
       "  </tbody>\n",
       "</table>\n",
       "</div>"
      ],
      "text/plain": [
       "                              useri  movie_id  rating               tstamp \n",
       "0  8e7cebf9a234c064b75016249f2ac65e         1     5.0  2001-09-10 17:19:56 \n",
       "1  8e7cebf9a234c064b75016249f2ac65e         2     4.0  2001-09-28 11:34:55 \n",
       "2  8e7cebf9a234c064b75016249f2ac65e         3     4.0  2001-09-28 11:42:50 \n",
       "3  8e7cebf9a234c064b75016249f2ac65e         5     5.0  2001-09-28 11:27:30 \n",
       "4  8e7cebf9a234c064b75016249f2ac65e         6     4.0  2002-01-07 18:12:02 "
      ]
     },
     "execution_count": 217,
     "metadata": {},
     "output_type": "execute_result"
    }
   ],
   "source": [
    "dfr.head()"
   ]
  },
  {
   "cell_type": "code",
   "execution_count": 218,
   "metadata": {},
   "outputs": [
    {
     "data": {
      "text/plain": [
       "14"
      ]
     },
     "execution_count": 218,
     "metadata": {},
     "output_type": "execute_result"
    }
   ],
   "source": [
    "#duplicates check\n",
    "sum(df['userid'].duplicated())"
   ]
  },
  {
   "cell_type": "code",
   "execution_count": 219,
   "metadata": {
    "scrolled": true
   },
   "outputs": [
    {
     "name": "stdout",
     "output_type": "stream",
     "text": [
      "                                userid  openness  agreeableness  \\\n",
      "137   4638502dc978788ec9d44e64e43a6757       6.0            4.5   \n",
      "138   4638502dc978788ec9d44e64e43a6757       6.0            4.5   \n",
      "139   4638502dc978788ec9d44e64e43a6757       6.0            4.5   \n",
      "140   4638502dc978788ec9d44e64e43a6757       6.0            4.5   \n",
      "141   4638502dc978788ec9d44e64e43a6757       6.0            4.5   \n",
      "142   4638502dc978788ec9d44e64e43a6757       6.0            4.5   \n",
      "143   4638502dc978788ec9d44e64e43a6757       6.0            4.5   \n",
      "144   4638502dc978788ec9d44e64e43a6757       6.0            4.5   \n",
      "176   c56613815b9f708eb9df7eb6afd42a49       6.0            3.5   \n",
      "271   9ba0ccf0a69ae15c85d1b289baa4d494       5.0            6.5   \n",
      "914   75a54727bffcbbb561da9d3eb604f28e       5.5            4.0   \n",
      "1327  3e0c0afd46ee7366f328ddf1dae83479       5.0            4.0   \n",
      "1464  5e82ce34f999ec0dbd2859b8b04dfcbf       6.0            1.5   \n",
      "1719  01e4e18e2e21b84ee1c5813fd5d3797f       6.5            4.5   \n",
      "\n",
      "      emotional_stability  conscientiousness  extraversion assigned metric  \\\n",
      "137                   4.5                4.5           4.5             all   \n",
      "138                   4.5                4.5           4.5             all   \n",
      "139                   4.5                4.5           4.5             all   \n",
      "140                   4.5                4.5           4.5             all   \n",
      "141                   4.5                4.5           4.5             all   \n",
      "142                   4.5                4.5           4.5             all   \n",
      "143                   4.5                4.5           4.5             all   \n",
      "144                   4.5                4.5           4.5             all   \n",
      "176                   4.0                3.0           2.5       diversity   \n",
      "271                   4.0                4.0           2.5       diversity   \n",
      "914                   3.5                4.0           5.0     serendipity   \n",
      "1327                  5.0                5.5           4.5     serendipity   \n",
      "1464                  4.0                5.5           2.5     serendipity   \n",
      "1719                  3.0                4.5           5.5      popularity   \n",
      "\n",
      "     assigned condition  movie_1  predicted_rating_1  ...  movie_9  \\\n",
      "137             default     4011            4.295280  ...     7502   \n",
      "138             default     4011            4.295280  ...     7502   \n",
      "139             default     4011            4.295280  ...     7502   \n",
      "140             default     4011            4.295280  ...     7502   \n",
      "141             default     4011            4.295280  ...     7502   \n",
      "142             default     4011            4.295280  ...     7502   \n",
      "143             default     4011            4.295280  ...     7502   \n",
      "144             default     4011            4.295280  ...     7502   \n",
      "176                high     2959            4.252748  ...    92259   \n",
      "271                 low     1372            4.307665  ...     2012   \n",
      "914              medium    77658            3.980668  ...     4306   \n",
      "1327               high     7502            4.688622  ...     5110   \n",
      "1464               high    77658            3.976500  ...     1207   \n",
      "1719             medium    45517            4.029183  ...    70286   \n",
      "\n",
      "      predicted_rating_9  movie_10  predicted_rating_10  movie_11  \\\n",
      "137             3.937361       750             3.926115       527   \n",
      "138             3.937361       750             3.926115       527   \n",
      "139             3.937361       750             3.926115       527   \n",
      "140             3.937361       750             3.926115       527   \n",
      "141             3.937361       750             3.926115       527   \n",
      "142             3.937361       750             3.926115       527   \n",
      "143             3.937361       750             3.926115       527   \n",
      "144             3.937361       750             3.926115       527   \n",
      "176             4.207883      2329             4.183084      2019   \n",
      "271             4.843246      1302             4.694285     78499   \n",
      "914             3.700390      2010             3.774752     96606   \n",
      "1327            4.790768      4246             4.489180      8807   \n",
      "1464            3.877050      7700             3.852503       246   \n",
      "1719            4.481479     68954             4.295337     50872   \n",
      "\n",
      "      predicted_rating_11  movie_12  predicted_rating_12  is_personalized  \\\n",
      "137              3.915537      1203             3.909129                3   \n",
      "138              3.915537      1203             3.909129                3   \n",
      "139              3.915537      1203             3.909129                3   \n",
      "140              3.915537      1203             3.909129                3   \n",
      "141              3.915537      1203             3.909129                3   \n",
      "142              3.915537      1203             3.909129                3   \n",
      "143              3.915537      1203             3.909129                3   \n",
      "144              3.915537      1203             3.909129                3   \n",
      "176              4.308950      5971             4.184303                2   \n",
      "271              4.174303      4321             4.547966                4   \n",
      "914              3.790022      6777             3.737148                1   \n",
      "1327             4.824527       588             4.203572                3   \n",
      "1464             3.806921      1250             3.812202                4   \n",
      "1719             4.986499     54286             4.660738                4   \n",
      "\n",
      "      enjoy_watching   \n",
      "137                 2  \n",
      "138                 2  \n",
      "139                 2  \n",
      "140                 2  \n",
      "141                 2  \n",
      "142                 2  \n",
      "143                 2  \n",
      "144                 2  \n",
      "176                 4  \n",
      "271                 4  \n",
      "914                 1  \n",
      "1327                2  \n",
      "1464                4  \n",
      "1719                5  \n",
      "\n",
      "[14 rows x 34 columns]\n"
     ]
    }
   ],
   "source": [
    "#Find the dupes\n",
    "duplicates = df[df.duplicated(['userid'])]\n",
    "print(duplicates)"
   ]
  },
  {
   "cell_type": "code",
   "execution_count": 253,
   "metadata": {},
   "outputs": [
    {
     "data": {
      "text/html": [
       "<div>\n",
       "<style scoped>\n",
       "    .dataframe tbody tr th:only-of-type {\n",
       "        vertical-align: middle;\n",
       "    }\n",
       "\n",
       "    .dataframe tbody tr th {\n",
       "        vertical-align: top;\n",
       "    }\n",
       "\n",
       "    .dataframe thead th {\n",
       "        text-align: right;\n",
       "    }\n",
       "</style>\n",
       "<table border=\"1\" class=\"dataframe\">\n",
       "  <thead>\n",
       "    <tr style=\"text-align: right;\">\n",
       "      <th></th>\n",
       "      <th>userid</th>\n",
       "      <th>openness</th>\n",
       "      <th>agreeableness</th>\n",
       "      <th>emotional_stability</th>\n",
       "      <th>conscientiousness</th>\n",
       "      <th>extraversion</th>\n",
       "      <th>assigned metric</th>\n",
       "      <th>assigned condition</th>\n",
       "      <th>movie_1</th>\n",
       "      <th>predicted_rating_1</th>\n",
       "      <th>...</th>\n",
       "      <th>movie_9</th>\n",
       "      <th>predicted_rating_9</th>\n",
       "      <th>movie_10</th>\n",
       "      <th>predicted_rating_10</th>\n",
       "      <th>movie_11</th>\n",
       "      <th>predicted_rating_11</th>\n",
       "      <th>movie_12</th>\n",
       "      <th>predicted_rating_12</th>\n",
       "      <th>is_personalized</th>\n",
       "      <th>enjoy_watching</th>\n",
       "    </tr>\n",
       "  </thead>\n",
       "  <tbody>\n",
       "    <tr>\n",
       "      <th>0</th>\n",
       "      <td>8e7cebf9a234c064b75016249f2ac65e</td>\n",
       "      <td>5.0</td>\n",
       "      <td>2.0</td>\n",
       "      <td>3.0</td>\n",
       "      <td>2.5</td>\n",
       "      <td>6.5</td>\n",
       "      <td>serendipity</td>\n",
       "      <td>high</td>\n",
       "      <td>77658</td>\n",
       "      <td>4.410466</td>\n",
       "      <td>...</td>\n",
       "      <td>120138</td>\n",
       "      <td>4.244817</td>\n",
       "      <td>121372</td>\n",
       "      <td>4.396004</td>\n",
       "      <td>127152</td>\n",
       "      <td>4.120456</td>\n",
       "      <td>95311</td>\n",
       "      <td>4.053847</td>\n",
       "      <td>4</td>\n",
       "      <td>4</td>\n",
       "    </tr>\n",
       "    <tr>\n",
       "      <th>1</th>\n",
       "      <td>77c7d756a093150d4377720abeaeef76</td>\n",
       "      <td>7.0</td>\n",
       "      <td>4.0</td>\n",
       "      <td>6.0</td>\n",
       "      <td>5.5</td>\n",
       "      <td>4.0</td>\n",
       "      <td>all</td>\n",
       "      <td>default</td>\n",
       "      <td>94959</td>\n",
       "      <td>4.207280</td>\n",
       "      <td>...</td>\n",
       "      <td>56782</td>\n",
       "      <td>4.019599</td>\n",
       "      <td>5618</td>\n",
       "      <td>3.963953</td>\n",
       "      <td>969</td>\n",
       "      <td>4.174188</td>\n",
       "      <td>1232</td>\n",
       "      <td>4.334877</td>\n",
       "      <td>2</td>\n",
       "      <td>3</td>\n",
       "    </tr>\n",
       "    <tr>\n",
       "      <th>2</th>\n",
       "      <td>b7e8a92987a530cc368719a0e60e26a3</td>\n",
       "      <td>4.0</td>\n",
       "      <td>3.0</td>\n",
       "      <td>4.5</td>\n",
       "      <td>2.0</td>\n",
       "      <td>2.5</td>\n",
       "      <td>serendipity</td>\n",
       "      <td>medium</td>\n",
       "      <td>110501</td>\n",
       "      <td>4.868064</td>\n",
       "      <td>...</td>\n",
       "      <td>2288</td>\n",
       "      <td>4.823212</td>\n",
       "      <td>3307</td>\n",
       "      <td>4.676756</td>\n",
       "      <td>1172</td>\n",
       "      <td>4.649281</td>\n",
       "      <td>1212</td>\n",
       "      <td>4.744990</td>\n",
       "      <td>2</td>\n",
       "      <td>2</td>\n",
       "    </tr>\n",
       "    <tr>\n",
       "      <th>3</th>\n",
       "      <td>92561f21446e017dd6b68b94b23ad5b7</td>\n",
       "      <td>5.5</td>\n",
       "      <td>5.5</td>\n",
       "      <td>4.0</td>\n",
       "      <td>4.5</td>\n",
       "      <td>4.0</td>\n",
       "      <td>popularity</td>\n",
       "      <td>medium</td>\n",
       "      <td>2905</td>\n",
       "      <td>4.526371</td>\n",
       "      <td>...</td>\n",
       "      <td>3030</td>\n",
       "      <td>4.425689</td>\n",
       "      <td>1281</td>\n",
       "      <td>4.479921</td>\n",
       "      <td>940</td>\n",
       "      <td>4.355061</td>\n",
       "      <td>905</td>\n",
       "      <td>4.317927</td>\n",
       "      <td>3</td>\n",
       "      <td>3</td>\n",
       "    </tr>\n",
       "    <tr>\n",
       "      <th>4</th>\n",
       "      <td>030001ac2145a938b07e686a35a2d638</td>\n",
       "      <td>5.5</td>\n",
       "      <td>5.5</td>\n",
       "      <td>3.5</td>\n",
       "      <td>4.5</td>\n",
       "      <td>2.5</td>\n",
       "      <td>popularity</td>\n",
       "      <td>medium</td>\n",
       "      <td>2905</td>\n",
       "      <td>4.526371</td>\n",
       "      <td>...</td>\n",
       "      <td>3030</td>\n",
       "      <td>4.425689</td>\n",
       "      <td>1281</td>\n",
       "      <td>4.479921</td>\n",
       "      <td>940</td>\n",
       "      <td>4.355061</td>\n",
       "      <td>905</td>\n",
       "      <td>4.317927</td>\n",
       "      <td>2</td>\n",
       "      <td>3</td>\n",
       "    </tr>\n",
       "    <tr>\n",
       "      <th>...</th>\n",
       "      <td>...</td>\n",
       "      <td>...</td>\n",
       "      <td>...</td>\n",
       "      <td>...</td>\n",
       "      <td>...</td>\n",
       "      <td>...</td>\n",
       "      <td>...</td>\n",
       "      <td>...</td>\n",
       "      <td>...</td>\n",
       "      <td>...</td>\n",
       "      <td>...</td>\n",
       "      <td>...</td>\n",
       "      <td>...</td>\n",
       "      <td>...</td>\n",
       "      <td>...</td>\n",
       "      <td>...</td>\n",
       "      <td>...</td>\n",
       "      <td>...</td>\n",
       "      <td>...</td>\n",
       "      <td>...</td>\n",
       "      <td>...</td>\n",
       "    </tr>\n",
       "    <tr>\n",
       "      <th>1829</th>\n",
       "      <td>cff910b71f09b3120289ff6b461a9e03</td>\n",
       "      <td>5.5</td>\n",
       "      <td>3.5</td>\n",
       "      <td>2.5</td>\n",
       "      <td>4.0</td>\n",
       "      <td>5.5</td>\n",
       "      <td>popularity</td>\n",
       "      <td>low</td>\n",
       "      <td>108979</td>\n",
       "      <td>4.246346</td>\n",
       "      <td>...</td>\n",
       "      <td>6643</td>\n",
       "      <td>4.409108</td>\n",
       "      <td>115122</td>\n",
       "      <td>3.960470</td>\n",
       "      <td>7700</td>\n",
       "      <td>4.178546</td>\n",
       "      <td>67997</td>\n",
       "      <td>4.085300</td>\n",
       "      <td>3</td>\n",
       "      <td>3</td>\n",
       "    </tr>\n",
       "    <tr>\n",
       "      <th>1830</th>\n",
       "      <td>1ab3a4c2921d8da640854819b0f6cfce</td>\n",
       "      <td>4.0</td>\n",
       "      <td>3.5</td>\n",
       "      <td>4.5</td>\n",
       "      <td>4.0</td>\n",
       "      <td>2.5</td>\n",
       "      <td>serendipity</td>\n",
       "      <td>high</td>\n",
       "      <td>93040</td>\n",
       "      <td>4.227140</td>\n",
       "      <td>...</td>\n",
       "      <td>5618</td>\n",
       "      <td>4.149697</td>\n",
       "      <td>903</td>\n",
       "      <td>4.116152</td>\n",
       "      <td>38061</td>\n",
       "      <td>4.155210</td>\n",
       "      <td>1197</td>\n",
       "      <td>4.045751</td>\n",
       "      <td>3</td>\n",
       "      <td>4</td>\n",
       "    </tr>\n",
       "    <tr>\n",
       "      <th>1831</th>\n",
       "      <td>a06386edadf3bc614dadb7044708c46c</td>\n",
       "      <td>6.0</td>\n",
       "      <td>3.0</td>\n",
       "      <td>5.5</td>\n",
       "      <td>3.5</td>\n",
       "      <td>6.0</td>\n",
       "      <td>serendipity</td>\n",
       "      <td>low</td>\n",
       "      <td>106173</td>\n",
       "      <td>3.935297</td>\n",
       "      <td>...</td>\n",
       "      <td>26519</td>\n",
       "      <td>3.998642</td>\n",
       "      <td>89707</td>\n",
       "      <td>4.144870</td>\n",
       "      <td>2571</td>\n",
       "      <td>3.860041</td>\n",
       "      <td>108709</td>\n",
       "      <td>3.899857</td>\n",
       "      <td>3</td>\n",
       "      <td>4</td>\n",
       "    </tr>\n",
       "    <tr>\n",
       "      <th>1832</th>\n",
       "      <td>bad56d9506832cd79d874a6b66b3d813</td>\n",
       "      <td>5.0</td>\n",
       "      <td>3.5</td>\n",
       "      <td>1.5</td>\n",
       "      <td>3.5</td>\n",
       "      <td>2.5</td>\n",
       "      <td>serendipity</td>\n",
       "      <td>medium</td>\n",
       "      <td>6874</td>\n",
       "      <td>4.241766</td>\n",
       "      <td>...</td>\n",
       "      <td>92259</td>\n",
       "      <td>4.819710</td>\n",
       "      <td>32</td>\n",
       "      <td>4.059369</td>\n",
       "      <td>3730</td>\n",
       "      <td>4.427336</td>\n",
       "      <td>3435</td>\n",
       "      <td>4.844386</td>\n",
       "      <td>4</td>\n",
       "      <td>4</td>\n",
       "    </tr>\n",
       "    <tr>\n",
       "      <th>1833</th>\n",
       "      <td>721ea658e148fc0f76ddd6e2b0e02422</td>\n",
       "      <td>6.5</td>\n",
       "      <td>6.5</td>\n",
       "      <td>2.5</td>\n",
       "      <td>6.5</td>\n",
       "      <td>2.0</td>\n",
       "      <td>popularity</td>\n",
       "      <td>high</td>\n",
       "      <td>140737</td>\n",
       "      <td>4.456842</td>\n",
       "      <td>...</td>\n",
       "      <td>8360</td>\n",
       "      <td>4.247956</td>\n",
       "      <td>8961</td>\n",
       "      <td>4.321693</td>\n",
       "      <td>597</td>\n",
       "      <td>4.278465</td>\n",
       "      <td>457</td>\n",
       "      <td>4.352895</td>\n",
       "      <td>2</td>\n",
       "      <td>2</td>\n",
       "    </tr>\n",
       "  </tbody>\n",
       "</table>\n",
       "<p>1821 rows × 34 columns</p>\n",
       "</div>"
      ],
      "text/plain": [
       "                                userid  openness  agreeableness  \\\n",
       "0     8e7cebf9a234c064b75016249f2ac65e       5.0            2.0   \n",
       "1     77c7d756a093150d4377720abeaeef76       7.0            4.0   \n",
       "2     b7e8a92987a530cc368719a0e60e26a3       4.0            3.0   \n",
       "3     92561f21446e017dd6b68b94b23ad5b7       5.5            5.5   \n",
       "4     030001ac2145a938b07e686a35a2d638       5.5            5.5   \n",
       "...                                ...       ...            ...   \n",
       "1829  cff910b71f09b3120289ff6b461a9e03       5.5            3.5   \n",
       "1830  1ab3a4c2921d8da640854819b0f6cfce       4.0            3.5   \n",
       "1831  a06386edadf3bc614dadb7044708c46c       6.0            3.0   \n",
       "1832  bad56d9506832cd79d874a6b66b3d813       5.0            3.5   \n",
       "1833  721ea658e148fc0f76ddd6e2b0e02422       6.5            6.5   \n",
       "\n",
       "      emotional_stability  conscientiousness  extraversion assigned metric  \\\n",
       "0                     3.0                2.5           6.5     serendipity   \n",
       "1                     6.0                5.5           4.0             all   \n",
       "2                     4.5                2.0           2.5     serendipity   \n",
       "3                     4.0                4.5           4.0      popularity   \n",
       "4                     3.5                4.5           2.5      popularity   \n",
       "...                   ...                ...           ...             ...   \n",
       "1829                  2.5                4.0           5.5      popularity   \n",
       "1830                  4.5                4.0           2.5     serendipity   \n",
       "1831                  5.5                3.5           6.0     serendipity   \n",
       "1832                  1.5                3.5           2.5     serendipity   \n",
       "1833                  2.5                6.5           2.0      popularity   \n",
       "\n",
       "     assigned condition  movie_1  predicted_rating_1  ...  movie_9  \\\n",
       "0                  high    77658            4.410466  ...   120138   \n",
       "1               default    94959            4.207280  ...    56782   \n",
       "2                medium   110501            4.868064  ...     2288   \n",
       "3                medium     2905            4.526371  ...     3030   \n",
       "4                medium     2905            4.526371  ...     3030   \n",
       "...                 ...      ...                 ...  ...      ...   \n",
       "1829                low   108979            4.246346  ...     6643   \n",
       "1830               high    93040            4.227140  ...     5618   \n",
       "1831                low   106173            3.935297  ...    26519   \n",
       "1832             medium     6874            4.241766  ...    92259   \n",
       "1833               high   140737            4.456842  ...     8360   \n",
       "\n",
       "      predicted_rating_9  movie_10  predicted_rating_10  movie_11  \\\n",
       "0               4.244817    121372             4.396004    127152   \n",
       "1               4.019599      5618             3.963953       969   \n",
       "2               4.823212      3307             4.676756      1172   \n",
       "3               4.425689      1281             4.479921       940   \n",
       "4               4.425689      1281             4.479921       940   \n",
       "...                  ...       ...                  ...       ...   \n",
       "1829            4.409108    115122             3.960470      7700   \n",
       "1830            4.149697       903             4.116152     38061   \n",
       "1831            3.998642     89707             4.144870      2571   \n",
       "1832            4.819710        32             4.059369      3730   \n",
       "1833            4.247956      8961             4.321693       597   \n",
       "\n",
       "      predicted_rating_11  movie_12  predicted_rating_12  is_personalized  \\\n",
       "0                4.120456     95311             4.053847                4   \n",
       "1                4.174188      1232             4.334877                2   \n",
       "2                4.649281      1212             4.744990                2   \n",
       "3                4.355061       905             4.317927                3   \n",
       "4                4.355061       905             4.317927                2   \n",
       "...                   ...       ...                  ...              ...   \n",
       "1829             4.178546     67997             4.085300                3   \n",
       "1830             4.155210      1197             4.045751                3   \n",
       "1831             3.860041    108709             3.899857                3   \n",
       "1832             4.427336      3435             4.844386                4   \n",
       "1833             4.278465       457             4.352895                2   \n",
       "\n",
       "      enjoy_watching   \n",
       "0                   4  \n",
       "1                   3  \n",
       "2                   2  \n",
       "3                   3  \n",
       "4                   3  \n",
       "...               ...  \n",
       "1829                3  \n",
       "1830                4  \n",
       "1831                4  \n",
       "1832                4  \n",
       "1833                2  \n",
       "\n",
       "[1821 rows x 34 columns]"
      ]
     },
     "execution_count": 253,
     "metadata": {},
     "output_type": "execute_result"
    }
   ],
   "source": [
    "#Delete dupes from df\n",
    "pd.DataFrame.drop_duplicates(df)"
   ]
  },
  {
   "cell_type": "code",
   "execution_count": 254,
   "metadata": {},
   "outputs": [
    {
     "data": {
      "text/html": [
       "<div>\n",
       "<style scoped>\n",
       "    .dataframe tbody tr th:only-of-type {\n",
       "        vertical-align: middle;\n",
       "    }\n",
       "\n",
       "    .dataframe tbody tr th {\n",
       "        vertical-align: top;\n",
       "    }\n",
       "\n",
       "    .dataframe thead th {\n",
       "        text-align: right;\n",
       "    }\n",
       "</style>\n",
       "<table border=\"1\" class=\"dataframe\">\n",
       "  <thead>\n",
       "    <tr style=\"text-align: right;\">\n",
       "      <th></th>\n",
       "      <th>userid</th>\n",
       "      <th>openness</th>\n",
       "      <th>agreeableness</th>\n",
       "      <th>stability</th>\n",
       "      <th>conscientiousness</th>\n",
       "      <th>extraversion</th>\n",
       "      <th>assigned_metric</th>\n",
       "      <th>assigned_condition</th>\n",
       "      <th>is_personalized</th>\n",
       "      <th>enjoy_watching</th>\n",
       "    </tr>\n",
       "  </thead>\n",
       "  <tbody>\n",
       "    <tr>\n",
       "      <th>0</th>\n",
       "      <td>8e7cebf9a234c064b75016249f2ac65e</td>\n",
       "      <td>5.0</td>\n",
       "      <td>2.0</td>\n",
       "      <td>3.0</td>\n",
       "      <td>2.5</td>\n",
       "      <td>6.5</td>\n",
       "      <td>serendipity</td>\n",
       "      <td>high</td>\n",
       "      <td>4</td>\n",
       "      <td>4</td>\n",
       "    </tr>\n",
       "    <tr>\n",
       "      <th>1</th>\n",
       "      <td>77c7d756a093150d4377720abeaeef76</td>\n",
       "      <td>7.0</td>\n",
       "      <td>4.0</td>\n",
       "      <td>6.0</td>\n",
       "      <td>5.5</td>\n",
       "      <td>4.0</td>\n",
       "      <td>all</td>\n",
       "      <td>default</td>\n",
       "      <td>2</td>\n",
       "      <td>3</td>\n",
       "    </tr>\n",
       "    <tr>\n",
       "      <th>2</th>\n",
       "      <td>b7e8a92987a530cc368719a0e60e26a3</td>\n",
       "      <td>4.0</td>\n",
       "      <td>3.0</td>\n",
       "      <td>4.5</td>\n",
       "      <td>2.0</td>\n",
       "      <td>2.5</td>\n",
       "      <td>serendipity</td>\n",
       "      <td>medium</td>\n",
       "      <td>2</td>\n",
       "      <td>2</td>\n",
       "    </tr>\n",
       "    <tr>\n",
       "      <th>3</th>\n",
       "      <td>92561f21446e017dd6b68b94b23ad5b7</td>\n",
       "      <td>5.5</td>\n",
       "      <td>5.5</td>\n",
       "      <td>4.0</td>\n",
       "      <td>4.5</td>\n",
       "      <td>4.0</td>\n",
       "      <td>popularity</td>\n",
       "      <td>medium</td>\n",
       "      <td>3</td>\n",
       "      <td>3</td>\n",
       "    </tr>\n",
       "    <tr>\n",
       "      <th>4</th>\n",
       "      <td>030001ac2145a938b07e686a35a2d638</td>\n",
       "      <td>5.5</td>\n",
       "      <td>5.5</td>\n",
       "      <td>3.5</td>\n",
       "      <td>4.5</td>\n",
       "      <td>2.5</td>\n",
       "      <td>popularity</td>\n",
       "      <td>medium</td>\n",
       "      <td>2</td>\n",
       "      <td>3</td>\n",
       "    </tr>\n",
       "  </tbody>\n",
       "</table>\n",
       "</div>"
      ],
      "text/plain": [
       "                             userid  openness  agreeableness  stability  \\\n",
       "0  8e7cebf9a234c064b75016249f2ac65e       5.0            2.0        3.0   \n",
       "1  77c7d756a093150d4377720abeaeef76       7.0            4.0        6.0   \n",
       "2  b7e8a92987a530cc368719a0e60e26a3       4.0            3.0        4.5   \n",
       "3  92561f21446e017dd6b68b94b23ad5b7       5.5            5.5        4.0   \n",
       "4  030001ac2145a938b07e686a35a2d638       5.5            5.5        3.5   \n",
       "\n",
       "   conscientiousness  extraversion assigned_metric assigned_condition  \\\n",
       "0                2.5           6.5     serendipity               high   \n",
       "1                5.5           4.0             all            default   \n",
       "2                2.0           2.5     serendipity             medium   \n",
       "3                4.5           4.0      popularity             medium   \n",
       "4                4.5           2.5      popularity             medium   \n",
       "\n",
       "   is_personalized  enjoy_watching  \n",
       "0                4               4  \n",
       "1                2               3  \n",
       "2                2               2  \n",
       "3                3               3  \n",
       "4                2               3  "
      ]
     },
     "execution_count": 254,
     "metadata": {},
     "output_type": "execute_result"
    }
   ],
   "source": [
    "#New dataframe without unnecessary columns\n",
    "cols = ['userid','openness','agreeableness','stability','conscientiousness','extraversion',\n",
    "        'assigned_metric','assigned_condition','is_personalized','enjoy_watching']\n",
    "df2 = pd.DataFrame(columns = cols)\n",
    "df2['userid'] = df['userid']\n",
    "df2['openness'] = df['openness']\n",
    "df2['agreeableness'] = df['agreeableness']\n",
    "df2['stability'] = df['emotional_stability']\n",
    "df2['conscientiousness'] = df['conscientiousness']\n",
    "df2['extraversion'] = df['extraversion']\n",
    "df2['assigned_metric'] = df['assigned metric']\n",
    "df2['assigned_condition'] = df['assigned condition']\n",
    "df2['is_personalized'] = df['is_personalized']\n",
    "df2['enjoy_watching'] = df['enjoy_watching ']\n",
    "df2.head()"
   ]
  },
  {
   "cell_type": "code",
   "execution_count": 255,
   "metadata": {},
   "outputs": [
    {
     "data": {
      "text/html": [
       "<div>\n",
       "<style scoped>\n",
       "    .dataframe tbody tr th:only-of-type {\n",
       "        vertical-align: middle;\n",
       "    }\n",
       "\n",
       "    .dataframe tbody tr th {\n",
       "        vertical-align: top;\n",
       "    }\n",
       "\n",
       "    .dataframe thead th {\n",
       "        text-align: right;\n",
       "    }\n",
       "</style>\n",
       "<table border=\"1\" class=\"dataframe\">\n",
       "  <thead>\n",
       "    <tr style=\"text-align: right;\">\n",
       "      <th></th>\n",
       "      <th>openness</th>\n",
       "      <th>agreeableness</th>\n",
       "      <th>stability</th>\n",
       "      <th>conscientiousness</th>\n",
       "      <th>extraversion</th>\n",
       "      <th>is_personalized</th>\n",
       "      <th>enjoy_watching</th>\n",
       "    </tr>\n",
       "  </thead>\n",
       "  <tbody>\n",
       "    <tr>\n",
       "      <th>count</th>\n",
       "      <td>1834.000000</td>\n",
       "      <td>1834.000000</td>\n",
       "      <td>1834.000000</td>\n",
       "      <td>1834.000000</td>\n",
       "      <td>1834.000000</td>\n",
       "      <td>1834.000000</td>\n",
       "      <td>1834.000000</td>\n",
       "    </tr>\n",
       "    <tr>\n",
       "      <th>mean</th>\n",
       "      <td>5.376499</td>\n",
       "      <td>4.215921</td>\n",
       "      <td>4.561614</td>\n",
       "      <td>4.662486</td>\n",
       "      <td>3.485551</td>\n",
       "      <td>3.056707</td>\n",
       "      <td>3.517993</td>\n",
       "    </tr>\n",
       "    <tr>\n",
       "      <th>std</th>\n",
       "      <td>1.042804</td>\n",
       "      <td>1.137923</td>\n",
       "      <td>1.392548</td>\n",
       "      <td>1.311450</td>\n",
       "      <td>1.468503</td>\n",
       "      <td>1.078507</td>\n",
       "      <td>1.059060</td>\n",
       "    </tr>\n",
       "    <tr>\n",
       "      <th>min</th>\n",
       "      <td>1.000000</td>\n",
       "      <td>1.000000</td>\n",
       "      <td>1.000000</td>\n",
       "      <td>1.000000</td>\n",
       "      <td>1.000000</td>\n",
       "      <td>1.000000</td>\n",
       "      <td>1.000000</td>\n",
       "    </tr>\n",
       "    <tr>\n",
       "      <th>25%</th>\n",
       "      <td>4.500000</td>\n",
       "      <td>3.500000</td>\n",
       "      <td>3.500000</td>\n",
       "      <td>4.000000</td>\n",
       "      <td>2.500000</td>\n",
       "      <td>2.000000</td>\n",
       "      <td>3.000000</td>\n",
       "    </tr>\n",
       "    <tr>\n",
       "      <th>50%</th>\n",
       "      <td>5.500000</td>\n",
       "      <td>4.000000</td>\n",
       "      <td>4.500000</td>\n",
       "      <td>4.500000</td>\n",
       "      <td>3.500000</td>\n",
       "      <td>3.000000</td>\n",
       "      <td>4.000000</td>\n",
       "    </tr>\n",
       "    <tr>\n",
       "      <th>75%</th>\n",
       "      <td>6.000000</td>\n",
       "      <td>5.000000</td>\n",
       "      <td>5.500000</td>\n",
       "      <td>5.500000</td>\n",
       "      <td>4.500000</td>\n",
       "      <td>4.000000</td>\n",
       "      <td>4.000000</td>\n",
       "    </tr>\n",
       "    <tr>\n",
       "      <th>max</th>\n",
       "      <td>7.000000</td>\n",
       "      <td>7.000000</td>\n",
       "      <td>7.000000</td>\n",
       "      <td>7.000000</td>\n",
       "      <td>7.000000</td>\n",
       "      <td>5.000000</td>\n",
       "      <td>5.000000</td>\n",
       "    </tr>\n",
       "  </tbody>\n",
       "</table>\n",
       "</div>"
      ],
      "text/plain": [
       "          openness  agreeableness    stability  conscientiousness  \\\n",
       "count  1834.000000    1834.000000  1834.000000        1834.000000   \n",
       "mean      5.376499       4.215921     4.561614           4.662486   \n",
       "std       1.042804       1.137923     1.392548           1.311450   \n",
       "min       1.000000       1.000000     1.000000           1.000000   \n",
       "25%       4.500000       3.500000     3.500000           4.000000   \n",
       "50%       5.500000       4.000000     4.500000           4.500000   \n",
       "75%       6.000000       5.000000     5.500000           5.500000   \n",
       "max       7.000000       7.000000     7.000000           7.000000   \n",
       "\n",
       "       extraversion  is_personalized  enjoy_watching  \n",
       "count   1834.000000      1834.000000     1834.000000  \n",
       "mean       3.485551         3.056707        3.517993  \n",
       "std        1.468503         1.078507        1.059060  \n",
       "min        1.000000         1.000000        1.000000  \n",
       "25%        2.500000         2.000000        3.000000  \n",
       "50%        3.500000         3.000000        4.000000  \n",
       "75%        4.500000         4.000000        4.000000  \n",
       "max        7.000000         5.000000        5.000000  "
      ]
     },
     "execution_count": 255,
     "metadata": {},
     "output_type": "execute_result"
    }
   ],
   "source": [
    "df2.describe()"
   ]
  },
  {
   "cell_type": "code",
   "execution_count": 235,
   "metadata": {},
   "outputs": [
    {
     "data": {
      "text/plain": [
       "userid                 object\n",
       "openness              float64\n",
       "agreeableness         float64\n",
       "stability             float64\n",
       "conscientiousness     float64\n",
       "extraversion          float64\n",
       "assigned_metric        object\n",
       "assigned_condition     object\n",
       "is_personalized         int64\n",
       "enjoy_watching          int64\n",
       "dtype: object"
      ]
     },
     "execution_count": 235,
     "metadata": {},
     "output_type": "execute_result"
    }
   ],
   "source": [
    "df2.dtypes"
   ]
  },
  {
   "cell_type": "code",
   "execution_count": 236,
   "metadata": {},
   "outputs": [
    {
     "data": {
      "text/plain": [
       "userid                0\n",
       "openness              0\n",
       "agreeableness         0\n",
       "stability             0\n",
       "conscientiousness     0\n",
       "extraversion          0\n",
       "assigned_metric       0\n",
       "assigned_condition    0\n",
       "is_personalized       0\n",
       "enjoy_watching        0\n",
       "dtype: int64"
      ]
     },
     "execution_count": 236,
     "metadata": {},
     "output_type": "execute_result"
    }
   ],
   "source": [
    "df2.isna().sum()"
   ]
  },
  {
   "cell_type": "code",
   "execution_count": 251,
   "metadata": {},
   "outputs": [
    {
     "data": {
      "image/png": "[encoded data removed]",
      "text/plain": [
       "<Figure size 432x288 with 5 Axes>"
      ]
     },
     "metadata": {
      "needs_background": "light"
     },
     "output_type": "display_data"
    }
   ],
   "source": [
    "fig,ax = plt.subplots(1,5, tight_layout=True, sharey=True)\n",
    "for i in range(5):\n",
    "    ax[i].hist(df.iloc[:,i+1])\n",
    "    ax[i].set_ylabel(df.columns[i+1])\n",
    "plt.show()"
   ]
  },
  {
   "cell_type": "code",
   "execution_count": 263,
   "metadata": {},
   "outputs": [
    {
     "data": {
      "text/plain": [
       "<matplotlib.axes._subplots.AxesSubplot at 0x1e2a0e6bd30>"
      ]
     },
     "execution_count": 263,
     "metadata": {},
     "output_type": "execute_result"
    },
    {
     "data": {
      "image/png": "[encoded data removed]",
      "text/plain": [
       "<Figure size 432x288 with 1 Axes>"
      ]
     },
     "metadata": {
      "needs_background": "light"
     },
     "output_type": "display_data"
    }
   ],
   "source": [
    "df2['enjoy_watching'].plot.hist(bins=5)"
   ]
  },
  {
   "cell_type": "code",
   "execution_count": 267,
   "metadata": {},
   "outputs": [
    {
     "data": {
      "text/plain": [
       "<matplotlib.axes._subplots.AxesSubplot at 0x1e2a0e5e0a0>"
      ]
     },
     "execution_count": 267,
     "metadata": {},
     "output_type": "execute_result"
    },
    {
     "data": {
      "image/png": "[encoded data removed]",
      "text/plain": [
       "<Figure size 432x288 with 1 Axes>"
      ]
     },
     "metadata": {
      "needs_background": "light"
     },
     "output_type": "display_data"
    }
   ],
   "source": [
    "df2['assigned_metric'].hist()"
   ]
  },
  {
   "cell_type": "code",
   "execution_count": 203,
   "metadata": {},
   "outputs": [
    {
     "data": {
      "text/plain": [
       "<seaborn.axisgrid.JointGrid at 0x1e292508a90>"
      ]
     },
     "execution_count": 203,
     "metadata": {},
     "output_type": "execute_result"
    },
    {
     "data": {
      "image/png": "[encoded data removed]",
      "text/plain": [
       "<Figure size 432x432 with 3 Axes>"
      ]
     },
     "metadata": {
      "needs_background": "light"
     },
     "output_type": "display_data"
    }
   ],
   "source": [
    "#sns.set_theme(\"ticks\")\n",
    "sns.jointplot(x='openness', y='enjoy_watching', kind=\"hex\", data=df2)"
   ]
  },
  {
   "cell_type": "code",
   "execution_count": 252,
   "metadata": {},
   "outputs": [
    {
     "data": {
      "text/plain": [
       "<seaborn.axisgrid.JointGrid at 0x1e29dd1e820>"
      ]
     },
     "execution_count": 252,
     "metadata": {},
     "output_type": "execute_result"
    },
    {
     "data": {
      "image/png": "[encoded data removed]",
      "text/plain": [
       "<Figure size 432x432 with 3 Axes>"
      ]
     },
     "metadata": {
      "needs_background": "light"
     },
     "output_type": "display_data"
    }
   ],
   "source": [
    "#sns.set_theme(\"ticks\")\n",
    "sns.jointplot(x='agreeableness', y='enjoy_watching', kind=\"hex\", data=df2)"
   ]
  },
  {
   "cell_type": "code",
   "execution_count": 256,
   "metadata": {},
   "outputs": [
    {
     "data": {
      "text/plain": [
       "<seaborn.axisgrid.JointGrid at 0x1e29dd25b50>"
      ]
     },
     "execution_count": 256,
     "metadata": {},
     "output_type": "execute_result"
    },
    {
     "data": {
      "image/png": "[encoded data removed]",
      "text/plain": [
       "<Figure size 432x432 with 3 Axes>"
      ]
     },
     "metadata": {
      "needs_background": "light"
     },
     "output_type": "display_data"
    }
   ],
   "source": [
    "#sns.set_theme(\"ticks\")\n",
    "sns.jointplot(x='stability', y='enjoy_watching', kind=\"hex\", data=df2)"
   ]
  },
  {
   "cell_type": "code",
   "execution_count": 275,
   "metadata": {},
   "outputs": [
    {
     "data": {
      "text/plain": [
       "<seaborn.axisgrid.JointGrid at 0x1e2a1643ee0>"
      ]
     },
     "execution_count": 275,
     "metadata": {},
     "output_type": "execute_result"
    },
    {
     "data": {
      "image/png": "[encoded data removed]",
      "text/plain": [
       "<Figure size 432x432 with 3 Axes>"
      ]
     },
     "metadata": {
      "needs_background": "light"
     },
     "output_type": "display_data"
    }
   ],
   "source": [
    "sns.jointplot(x='conscientiousness', y='enjoy_watching', kind=\"hex\", data=df2)"
   ]
  },
  {
   "cell_type": "code",
   "execution_count": 258,
   "metadata": {},
   "outputs": [
    {
     "data": {
      "text/plain": [
       "<seaborn.axisgrid.JointGrid at 0x1e29e4b7e20>"
      ]
     },
     "execution_count": 258,
     "metadata": {},
     "output_type": "execute_result"
    },
    {
     "data": {
      "image/png": "[encoded data removed]",
      "text/plain": [
       "<Figure size 432x432 with 3 Axes>"
      ]
     },
     "metadata": {
      "needs_background": "light"
     },
     "output_type": "display_data"
    }
   ],
   "source": [
    "sns.jointplot(x='extraversion', y='enjoy_watching', kind=\"hex\", data=df2)"
   ]
  },
  {
   "cell_type": "code",
   "execution_count": 278,
   "metadata": {},
   "outputs": [
    {
     "data": {
      "text/plain": [
       "0.06388497588929046"
      ]
     },
     "execution_count": 278,
     "metadata": {},
     "output_type": "execute_result"
    }
   ],
   "source": [
    "df2['openness'].corr(df2['enjoy_watching'])"
   ]
  },
  {
   "cell_type": "code",
   "execution_count": 279,
   "metadata": {},
   "outputs": [
    {
     "data": {
      "text/plain": [
       "0.036837741855602804"
      ]
     },
     "execution_count": 279,
     "metadata": {},
     "output_type": "execute_result"
    }
   ],
   "source": [
    "df2['agreeableness'].corr(df2['enjoy_watching'])"
   ]
  },
  {
   "cell_type": "code",
   "execution_count": 280,
   "metadata": {},
   "outputs": [
    {
     "data": {
      "text/plain": [
       "-0.00223181853207047"
      ]
     },
     "execution_count": 280,
     "metadata": {},
     "output_type": "execute_result"
    }
   ],
   "source": [
    "df2['stability'].corr(df2['enjoy_watching'])"
   ]
  },
  {
   "cell_type": "code",
   "execution_count": 281,
   "metadata": {},
   "outputs": [
    {
     "data": {
      "text/plain": [
       "-0.043545999421930555"
      ]
     },
     "execution_count": 281,
     "metadata": {},
     "output_type": "execute_result"
    }
   ],
   "source": [
    "df2['conscientiousness'].corr(df2['enjoy_watching'])"
   ]
  },
  {
   "cell_type": "code",
   "execution_count": 282,
   "metadata": {},
   "outputs": [
    {
     "data": {
      "text/plain": [
       "0.027265482084069474"
      ]
     },
     "execution_count": 282,
     "metadata": {},
     "output_type": "execute_result"
    }
   ],
   "source": [
    "df2['extraversion'].corr(df2['enjoy_watching'])"
   ]
  },
  {
   "cell_type": "code",
   "execution_count": null,
   "metadata": {},
   "outputs": [],
   "source": []
  }
 ],
 "metadata": {
  "kernelspec": {
   "display_name": "Python 3",
   "language": "python",
   "name": "python3"
  },
  "language_info": {
   "codemirror_mode": {
    "name": "ipython",
    "version": 3
   },
   "file_extension": ".py",
   "mimetype": "text/x-python",
   "name": "python",
   "nbconvert_exporter": "python",
   "pygments_lexer": "ipython3",
   "version": "3.8.3"
  }
 },
 "nbformat": 4,
 "nbformat_minor": 4
}
